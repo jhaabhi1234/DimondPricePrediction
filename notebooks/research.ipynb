{
 "cells": [
  {
   "cell_type": "code",
   "execution_count": 1,
   "metadata": {},
   "outputs": [],
   "source": [
    "import logging\n",
    "import os\n",
    "from datetime import datetime"
   ]
  },
  {
   "cell_type": "code",
   "execution_count": 2,
   "metadata": {},
   "outputs": [
    {
     "data": {
      "text/plain": [
       "datetime.datetime(2024, 1, 15, 14, 25, 0, 308399)"
      ]
     },
     "execution_count": 2,
     "metadata": {},
     "output_type": "execute_result"
    }
   ],
   "source": [
    "datetime.now()"
   ]
  },
  {
   "cell_type": "code",
   "execution_count": 3,
   "metadata": {},
   "outputs": [
    {
     "data": {
      "text/plain": [
       "'01_15_2024_14_25_07.log'"
      ]
     },
     "execution_count": 3,
     "metadata": {},
     "output_type": "execute_result"
    }
   ],
   "source": [
    "f\"{datetime.now().strftime('%m_%d_%Y_%H_%M_%S')}.log\""
   ]
  },
  {
   "cell_type": "code",
   "execution_count": 4,
   "metadata": {},
   "outputs": [
    {
     "data": {
      "text/plain": [
       "'/Users/abhishekjha/Desktop/Dup_ML_project/notebooks'"
      ]
     },
     "execution_count": 4,
     "metadata": {},
     "output_type": "execute_result"
    }
   ],
   "source": [
    "os.getcwd()"
   ]
  },
  {
   "cell_type": "code",
   "execution_count": 5,
   "metadata": {},
   "outputs": [
    {
     "data": {
      "text/plain": [
       "'/Users/abhishekjha/Desktop/Dup_ML_project/notebooks/logs'"
      ]
     },
     "execution_count": 5,
     "metadata": {},
     "output_type": "execute_result"
    }
   ],
   "source": [
    "os.path.join(os.getcwd(),\"logs\")"
   ]
  },
  {
   "cell_type": "code",
   "execution_count": 25,
   "metadata": {},
   "outputs": [],
   "source": [
    "import pandas as pd\n",
    "import numpy as np\n",
    "from src.DimondPricePrediction.logger import logging\n",
    "from src.DimondPricePrediction.exception import customexception\n",
    "\n",
    "import os\n",
    "import sys\n",
    "from sklearn.model_selection import train_test_split\n",
    "from dataclasses import dataclass\n",
    "from pathlib import Path\n",
    "\n",
    "class DataIngestionConfig:\n",
    "    base_path = \"/Users/abhishekjha/Desktop/Dup_ML_project\"\n",
    "    raw_data_path= os.path.join(base_path, \"artifacts\", \"raw.csv\")\n",
    "    train_data_path = os.path.join(base_path, \"artifacts\", \"train.csv\")\n",
    "    test_data_path = os.path.join(base_path, \"artifacts\", \"test.csv\")\n",
    "   \n",
    "class DataIngestion:\n",
    "    def __init__(self):\n",
    "        self.ingestion_config = DataIngestionConfig()\n",
    "    \n",
    "    def initiate_data_ingestion(self):\n",
    "        logging.info(\"Data ingestion started\")\n",
    "        \n",
    "        try:\n",
    "            data = pd.read_csv(Path(os.path.join(\"notebooks/data\", \"gemstone.csv\")))\n",
    "            logging.info(\"Read dataset as a DataFrame\")\n",
    "\n",
    "            # Debugging: Log base_path\n",
    "            logging.info(f\"Base path: {self.ingestion_config.base_path}\")\n",
    "\n",
    "            # Debugging: Log contents of the base directory\n",
    "            logging.info(f\"Files in base directory: {os.listdir(self.ingestion_config.base_path)}\")\n",
    "\n",
    "            # Create the artifacts folder in the specified base directory\n",
    "            os.makedirs(os.path.dirname(self.ingestion_config.raw_data_path), exist_ok=True)\n",
    "\n",
    "            # Debugging: Log contents of the directory after creation\n",
    "            logging.info(f\"Files in directory: {os.listdir(os.path.dirname(self.ingestion_config.raw_data_path))}\")\n",
    "\n",
    "            data.to_csv(self.ingestion_config.raw_data_path, index=False)\n",
    "            logging.info(\"Saved the raw dataset in the artifacts folder\")\n",
    "            \n",
    "            logging.info(\"Performed train-test split\")\n",
    "            train_data, test_data = train_test_split(data, test_size=0.25)\n",
    "            logging.info(\"Train-test split completed\")\n",
    "            \n",
    "            train_data.to_csv(self.ingestion_config.train_data_path, index=False)\n",
    "            test_data.to_csv(self.ingestion_config.test_data_path, index=False)\n",
    "            \n",
    "            logging.info(\"Data ingestion completed\")\n",
    "\n",
    "            # Debugging: Log contents of the artifacts directory\n",
    "            logging.info(f\"Files in 'artifacts' directory: {os.listdir('artifacts')}\")\n",
    "\n",
    "            return (\n",
    "                self.ingestion_config.train_data_path,\n",
    "                self.ingestion_config.test_data_path\n",
    "            )\n",
    "        \n",
    "        except Exception as e:\n",
    "            logging.error(f\"Exception occurred during data ingestion: {str(e)}\")\n",
    "            raise customexception(e, sys)\n",
    "\n",
    "\n"
   ]
  },
  {
   "cell_type": "code",
   "execution_count": 23,
   "metadata": {},
   "outputs": [],
   "source": [
    "raw_data_path= os.path.join(\"artifacts\", \"raw.csv\")"
   ]
  },
  {
   "cell_type": "code",
   "execution_count": 24,
   "metadata": {},
   "outputs": [],
   "source": [
    " os.makedirs(os.path.dirname(raw_data_path), exist_ok=True)"
   ]
  },
  {
   "cell_type": "code",
   "execution_count": null,
   "metadata": {},
   "outputs": [],
   "source": []
  }
 ],
 "metadata": {
  "kernelspec": {
   "display_name": "base",
   "language": "python",
   "name": "python3"
  },
  "language_info": {
   "codemirror_mode": {
    "name": "ipython",
    "version": 3
   },
   "file_extension": ".py",
   "mimetype": "text/x-python",
   "name": "python",
   "nbconvert_exporter": "python",
   "pygments_lexer": "ipython3",
   "version": "3.11.3"
  },
  "orig_nbformat": 4
 },
 "nbformat": 4,
 "nbformat_minor": 2
}
